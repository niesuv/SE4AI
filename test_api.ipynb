{
 "cells": [
  {
   "cell_type": "code",
   "execution_count": 1,
   "metadata": {},
   "outputs": [],
   "source": [
    "import requests\n",
    "import os\n",
    "from typing import Dict, Any, Optional"
   ]
  },
  {
   "cell_type": "code",
   "execution_count": 2,
   "metadata": {},
   "outputs": [],
   "source": [
    "def predict_disease(api_url: str, image_path: str, fruit_type: str) -> Optional[Dict[str, Any]]:\n",
    "    \"\"\"\n",
    "    Sends an image to the Plant Disease API and returns the prediction.\n",
    "\n",
    "    Args:\n",
    "        api_url: The URL of the prediction API endpoint.\n",
    "        image_path: The local path to the image file.\n",
    "        fruit_type: The type of fruit/crop depicted in the image.\n",
    "\n",
    "    Returns:\n",
    "        A dictionary containing the prediction results if successful, otherwise None.\n",
    "    \"\"\"\n",
    "    if not os.path.exists(image_path):\n",
    "        print(f\"Error: Image file not found at path: {image_path}\")\n",
    "        return None\n",
    "\n",
    "    payload: Dict[str, str] = {'fruit': fruit_type}\n",
    "    file_name: str = os.path.basename(image_path)\n",
    "\n",
    "    try:\n",
    "        with open(image_path, 'rb') as image_file:\n",
    "            files_to_upload = {\n",
    "                'file': (file_name, image_file, 'image/jpeg') # Provide filename and content type\n",
    "            }\n",
    "\n",
    "            print(f\"Sending POST request to: {api_url}\")\n",
    "            print(f\"Fruit type: {fruit_type}\")\n",
    "            print(f\"Image file: {image_path}\")\n",
    "\n",
    "            response = requests.post(api_url, data=payload, files=files_to_upload, timeout=60) # Added timeout\n",
    "            response.raise_for_status() # Raise HTTPError for bad responses (4xx or 5xx)\n",
    "\n",
    "            print(f\"\\nRequest successful! Status Code: {response.status_code}\")\n",
    "            print(\"Server JSON response:\")\n",
    "            prediction = response.json()\n",
    "            print(prediction)\n",
    "            return prediction\n",
    "\n",
    "    except FileNotFoundError:\n",
    "        # This case is already checked above, but kept for robustness.\n",
    "        print(f\"Error: Could not open image file at: {image_path}\")\n",
    "        return None\n",
    "    except requests.exceptions.Timeout:\n",
    "        print(f\"\\nError: The request to {api_url} timed out.\")\n",
    "        return None\n",
    "    except requests.exceptions.ConnectionError:\n",
    "        print(f\"\\nError: Could not connect to the server at {api_url}.\")\n",
    "        return None\n",
    "    except requests.exceptions.HTTPError as http_err:\n",
    "        print(f\"\\nHTTP error occurred: {http_err}\")\n",
    "        print(f\"Status Code: {http_err.response.status_code}\")\n",
    "        print(f\"Response Content: {http_err.response.text}\")\n",
    "        return None\n",
    "    except requests.exceptions.RequestException as req_err:\n",
    "        # Catch any other request-related errors\n",
    "        print(f\"\\nError during request to {api_url}: {req_err}\")\n",
    "        return None\n",
    "    except Exception as e:\n",
    "        # Catch any other unexpected errors\n",
    "        print(f\"\\nAn unexpected error occurred: {e}\")\n",
    "        return None"
   ]
  },
  {
   "cell_type": "code",
   "execution_count": 3,
   "metadata": {},
   "outputs": [],
   "source": [
    "# --- Configuration ---\n",
    "# API endpoint URL\n",
    "API_ENDPOINT_URL: str = \"https://xxx/predict/\" # CHANGE `xxx`\n",
    "\n",
    "# Path to the image file for prediction\n",
    "# <<< CHANGE THIS PATH >>>\n",
    "IMAGE_FILE_PATH: str = \"image/anthracnose-of-mango-bangladesh-2.jpg\"\n",
    "\n",
    "# Crop type corresponding to the image (must match a key in index_mapping.json)\n",
    "# <<< CHANGE THIS CROP TYPE >>>\n",
    "FRUIT_TYPE: str = \"mango\" # Example: \"Apple\", \"Tomato\", \"Potato\", ..."
   ]
  },
  {
   "cell_type": "code",
   "execution_count": 4,
   "metadata": {},
   "outputs": [
    {
     "name": "stdout",
     "output_type": "stream",
     "text": [
      "Sending POST request to: https://xxx/predict/\n",
      "Fruit type: mango\n",
      "Image file: image/anthracnose-of-mango-bangladesh-2.jpg\n",
      "\n",
      "Error: Could not connect to the server at https://xxx/predict/.\n",
      "\n",
      "Prediction process failed.\n"
     ]
    }
   ],
   "source": [
    "# --- Main execution ---\n",
    "if __name__ == \"__main__\":\n",
    "    prediction_result = predict_disease(API_ENDPOINT_URL, IMAGE_FILE_PATH, FRUIT_TYPE)\n",
    "\n",
    "    if prediction_result:\n",
    "        # Process the prediction_result dictionary as needed\n",
    "        print(\"\\nPrediction process completed.\")\n",
    "    else:\n",
    "        print(\"\\nPrediction process failed.\")"
   ]
  }
 ],
 "metadata": {
  "kernelspec": {
   "display_name": "base",
   "language": "python",
   "name": "python3"
  },
  "language_info": {
   "codemirror_mode": {
    "name": "ipython",
    "version": 3
   },
   "file_extension": ".py",
   "mimetype": "text/x-python",
   "name": "python",
   "nbconvert_exporter": "python",
   "pygments_lexer": "ipython3",
   "version": "3.12.7"
  }
 },
 "nbformat": 4,
 "nbformat_minor": 2
}
